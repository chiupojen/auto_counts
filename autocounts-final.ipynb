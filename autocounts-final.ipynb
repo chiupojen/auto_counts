{
 "cells": [
  {
   "cell_type": "code",
   "execution_count": 5,
   "metadata": {},
   "outputs": [],
   "source": [
    "import pandas as pd"
   ]
  },
  {
   "cell_type": "code",
   "execution_count": 6,
   "metadata": {},
   "outputs": [
    {
     "name": "stdout",
     "output_type": "stream",
     "text": [
      "請輸入匯入檔案名稱：test03.csv\n"
     ]
    }
   ],
   "source": [
    "# 匯入要自動計算問卷滿意度結果的csv檔案\n",
    "filename = input(\"請輸入匯入檔案名稱：\")\n",
    "file = pd.read_csv(filename)"
   ]
  },
  {
   "cell_type": "code",
   "execution_count": 7,
   "metadata": {},
   "outputs": [
    {
     "name": "stdout",
     "output_type": "stream",
     "text": [
      "index 0 = 上課日期\n",
      "index 1 = 授課講師\n",
      "index 2 = 工號\n",
      "index 3 = 姓名\n",
      "index 4 = 課程目標是否符合學員需求 - 我認為此課程能有效提升主管對危害的感受度\n",
      "index 5 = 課程目標是否符合學員需求 - 我認為此課程能有助於主管了解安全管理的重要性\n",
      "index 6 = 課程目標是否符合學員需求 - 整體來說，對於本次課程內容，我認為有符合我預期的課程目標\n",
      "index 7 = 課程目標其他建議(是否有其他需求)\n",
      "index 8 = 講師表現 - 講師授課時運用適當實例(講解清晰，引例適當)\n",
      "index 9 = 講師表現 - 講師的講義/簡報內容編排妥當\n",
      "index 10 = 講師表現 - 講師能有效解決學員問題\n",
      "index 11 = 講師表現 - 講師能有效掌控授課進度\n",
      "index 12 = 講師表現 - 講師充分表現出教學熱忱\n",
      "index 13 = 講師表現 - 講師採用適當的教學方法\n",
      "index 14 = 講師表現 - 講師授課內容符合預期教學目標\n",
      "index 15 = 講師表現其他建議(是否有可加強之處)\n",
      "index 16 = 工作助益（針對學員自我評估） - 本次課程內容，相當簡單易懂\n",
      "index 17 = 工作助益（針對學員自我評估） - 本次課程內容，過於困難艱澀\n",
      "index 18 = 工作助益（針對學員自我評估） - 本次課程可提升知識/技術/態度改變，有助解決目前工作問題\n",
      "index 19 = 工作助益（針對學員自我評估） - 本次課程可提升知識/技術/態度改變，對未來工作應有所幫助\n",
      "index 20 = 工作助益其他建議(是否有可加強之處)\n",
      "index 21 = 設備環境 - 本課程人數安排合宜\n",
      "index 22 = 設備環境 - 本課程場地設備適當\n",
      "index 23 = 設備環境其他建議(是否有其他可加強之處)\n",
      "index 24 = 時程安排（針對訓練主辦單位） - 上課通知，內容清楚\n",
      "index 25 = 時程安排（針對訓練主辦單位） - 課前通知，時間充足\n",
      "index 26 = 時程安排（針對訓練主辦單位） - 課程時間，長度合宜\n",
      "index 27 = 時程安排其他建議(是否有可加強之處)\n",
      "index 28 = 填答時間\n",
      "index 29 = 填答秒數\n",
      "index 30 = IP紀錄\n",
      "index 31 = 額滿結束註記\n",
      "index 32 = 使用者紀錄\n",
      "index 33 = 會員時間\n",
      "index 34 = 會員編號\n",
      "index 35 = 自訂ID\n",
      "index 36 = 備註\n"
     ]
    }
   ],
   "source": [
    "# 列出檔案中所有欄位名稱以及其排序號碼，以便下一步選取要計算的欄位\n",
    "file_col = file.columns\n",
    "i = 0\n",
    "for name in file_col:\n",
    "    print(\"index \"+str(i)+\" = \"+str(name))\n",
    "    i = i+1"
   ]
  },
  {
   "cell_type": "code",
   "execution_count": 8,
   "metadata": {},
   "outputs": [
    {
     "name": "stdout",
     "output_type": "stream",
     "text": [
      "請輸入課程目標構面題目編號：4\n",
      "請輸入課程目標構面題目編號：5\n",
      "請輸入課程目標構面題目編號：6\n",
      "請輸入課程目標構面題目編號：\n",
      "請輸入講師表現構面題目編號：8\n",
      "請輸入講師表現構面題目編號：9\n",
      "請輸入講師表現構面題目編號：10\n",
      "請輸入講師表現構面題目編號：11\n",
      "請輸入講師表現構面題目編號：12\n",
      "請輸入講師表現構面題目編號：13\n",
      "請輸入講師表現構面題目編號：14\n",
      "請輸入講師表現構面題目編號：\n",
      "請輸入工作助益構面題目編號：16\n",
      "請輸入工作助益構面題目編號：18\n",
      "請輸入工作助益構面題目編號：19\n",
      "請輸入工作助益構面題目編號：\n",
      "請輸入設備環境構面題目編號：21\n",
      "請輸入設備環境構面題目編號：22\n",
      "請輸入設備環境構面題目編號：\n",
      "請輸入時程安排構面題目編號：24\n",
      "請輸入時程安排構面題目編號：25\n",
      "請輸入時程安排構面題目編號：26\n",
      "請輸入時程安排構面題目編號：\n",
      "課程目標構面題目有 [4, 5, 6]\n",
      "講師表現構面題目有 [8, 9, 10, 11, 12, 13, 14]\n",
      "工作助益構面題目有 [16, 18, 19]\n",
      "環境設備構面題目有 [21, 22]\n",
      "時程安排構面題目有 [24, 25, 26]\n"
     ]
    }
   ],
   "source": [
    "# 依據五大構面各別輸入要計入的題目編號\n",
    "goal_ind = []\n",
    "while True:\n",
    "    ind = input(\"請輸入課程目標構面題目編號：\")\n",
    "    if (ind==\"\"):\n",
    "        break\n",
    "    goal_ind.append(int(ind))\n",
    "teacher_ind = []\n",
    "while True:\n",
    "    ind = input(\"請輸入講師表現構面題目編號：\")\n",
    "    if (ind==\"\"):\n",
    "        break\n",
    "    teacher_ind.append(int(ind))\n",
    "work_ind = []\n",
    "while True:\n",
    "    ind = input(\"請輸入工作助益構面題目編號：\")\n",
    "    if (ind==\"\"):\n",
    "        break\n",
    "    work_ind.append(int(ind))\n",
    "env_ind = []\n",
    "while True:\n",
    "    ind = input(\"請輸入設備環境構面題目編號：\")\n",
    "    if (ind==\"\"):\n",
    "        break\n",
    "    env_ind.append(int(ind))\n",
    "sche_ind = []\n",
    "while True:\n",
    "    ind = input(\"請輸入時程安排構面題目編號：\")\n",
    "    if (ind==\"\"):\n",
    "        break\n",
    "    sche_ind.append(int(ind))\n",
    "print(\"課程目標構面題目有\", goal_ind)\n",
    "print(\"講師表現構面題目有\", teacher_ind)\n",
    "print(\"工作助益構面題目有\", work_ind)\n",
    "print(\"環境設備構面題目有\", env_ind)\n",
    "print(\"時程安排構面題目有\", sche_ind)"
   ]
  },
  {
   "cell_type": "code",
   "execution_count": 9,
   "metadata": {},
   "outputs": [
    {
     "name": "stdout",
     "output_type": "stream",
     "text": [
      "                                             name  非常同意  同意  無意見  不同意  非常不同意\n",
      "0             課程目標是否符合學員需求 - 我認為此課程能有效提升主管對危害的感受度    29   9    0    0      1\n",
      "1           課程目標是否符合學員需求 - 我認為此課程能有助於主管了解安全管理的重要性    30   9    0    0      0\n",
      "2     課程目標是否符合學員需求 - 整體來說，對於本次課程內容，我認為有符合我預期的課程目標    27  12    0    0      0\n",
      "3                   講師表現 - 講師授課時運用適當實例(講解清晰，引例適當)    30   9    0    0      0\n",
      "4                           講師表現 - 講師的講義/簡報內容編排妥當    25  14    0    0      0\n",
      "5                              講師表現 - 講師能有效解決學員問題    21  17    1    0      0\n",
      "6                              講師表現 - 講師能有效掌控授課進度    26  13    0    0      0\n",
      "7                              講師表現 - 講師充分表現出教學熱忱    27  12    0    0      0\n",
      "8                              講師表現 - 講師採用適當的教學方法    26  13    0    0      0\n",
      "9                           講師表現 - 講師授課內容符合預期教學目標    24  15    0    0      0\n",
      "10                 工作助益（針對學員自我評估） - 本次課程內容，相當簡單易懂    24  15    0    0      0\n",
      "11  工作助益（針對學員自我評估） - 本次課程可提升知識/技術/態度改變，有助解決目前工作問題    22  17    0    0      0\n",
      "12  工作助益（針對學員自我評估） - 本次課程可提升知識/技術/態度改變，對未來工作應有所幫助    23  16    0    0      0\n",
      "13                               設備環境 - 本課程人數安排合宜    23  16    0    0      0\n",
      "14                               設備環境 - 本課程場地設備適當    21  18    0    0      0\n",
      "15                     時程安排（針對訓練主辦單位） - 上課通知，內容清楚    22  17    0    0      0\n",
      "16                     時程安排（針對訓練主辦單位） - 課前通知，時間充足    22  17    0    0      0\n",
      "17                     時程安排（針對訓練主辦單位） - 課程時間，長度合宜    20  19    0    0      0\n"
     ]
    }
   ],
   "source": [
    "# 計算各題目各提項的回答次數\n",
    "col_count = [\"非常同意\",\"同意\",\"無意見\",\"不同意\",\"非常不同意\"]\n",
    "goal = file.iloc[: ,goal_ind]\n",
    "goal_pd = []\n",
    "for i in goal.keys():\n",
    "    goal_count = {\"name\":i}\n",
    "    for j in col_count:\n",
    "        goal_count[j] = goal[goal[i] == j][i].count()\n",
    "    goal_pd.append(goal_count)\n",
    "goal_pd_t = pd.DataFrame(goal_pd)\n",
    "teacher = file.iloc[: ,teacher_ind]\n",
    "teacher_pd = []\n",
    "for i in teacher.keys():\n",
    "    teacher_count = {\"name\":i}\n",
    "    for j in col_count:\n",
    "        teacher_count[j] = teacher[teacher[i] == j][i].count()\n",
    "    teacher_pd.append(teacher_count)\n",
    "teacher_pd_t = pd.DataFrame(teacher_pd)\n",
    "work = file.iloc[: ,work_ind]\n",
    "work_pd = []\n",
    "for i in work.keys():\n",
    "    work_count = {\"name\":i}\n",
    "    for j in col_count:\n",
    "        work_count[j] = work[work[i] == j][i].count()\n",
    "    work_pd.append(work_count)\n",
    "work_pd_t = pd.DataFrame(work_pd)\n",
    "env = file.iloc[: ,env_ind]\n",
    "env_pd = []\n",
    "for i in env.keys():\n",
    "    env_count = {\"name\":i}\n",
    "    for j in col_count:\n",
    "        env_count[j] = env[env[i] == j][i].count()\n",
    "    env_pd.append(env_count)\n",
    "env_pd_t = pd.DataFrame(env_pd)\n",
    "sche = file.iloc[: ,sche_ind]\n",
    "sche_pd = []\n",
    "for i in sche.keys():\n",
    "    sche_count = {\"name\":i}\n",
    "    for j in col_count:\n",
    "        sche_count[j] = sche[sche[i] == j][i].count()\n",
    "    sche_pd.append(sche_count)\n",
    "sche_pd_t = pd.DataFrame(sche_pd)\n",
    "all_pd = [goal_pd_t, teacher_pd_t, work_pd_t, env_pd_t, sche_pd_t]\n",
    "all_summary_df = pd.concat(all_pd, ignore_index=True)\n",
    "print(all_summary_df)"
   ]
  },
  {
   "cell_type": "code",
   "execution_count": 10,
   "metadata": {},
   "outputs": [
    {
     "name": "stdout",
     "output_type": "stream",
     "text": [
      "     構面      非常同意        同意       無意見  不同意     非常不同意     課程滿意度\n",
      "0  課程目標  0.735043  0.256410  0.000000  0.0  0.008547  0.991453\n",
      "1  講師表現  0.655678  0.340659  0.003663  0.0  0.000000  0.996337\n",
      "2  工作助益  0.589744  0.410256  0.000000  0.0  0.000000  1.000000\n",
      "3  設備環境  0.564103  0.435897  0.000000  0.0  0.000000  1.000000\n",
      "4  時程安排  0.547009  0.452991  0.000000  0.0  0.000000  1.000000\n"
     ]
    }
   ],
   "source": [
    "# 計算滿意度百分比\n",
    "construct = [\"課程目標\", \"講師表現\", \"工作助益\", \"設備環境\", \"時程安排\"]\n",
    "goal_total = goal_pd_t.sum(1).sum()\n",
    "teacher_total = teacher_pd_t.sum(1).sum()\n",
    "work_total = work_pd_t.sum(1).sum()\n",
    "env_total = env_pd_t.sum(1).sum()\n",
    "sche_total = sche_pd_t.sum(1).sum()\n",
    "ans_total = [goal_total, teacher_total, work_total, env_total, sche_total]\n",
    "cons_summary = []\n",
    "for n in range(0,5):\n",
    "    total = {\"構面\":construct[n]}\n",
    "    for m in range(0,5):\n",
    "        # print(col_count[m], all_pd[n][col_count[m]].sum(), ans_total[n])\n",
    "        total[col_count[m]] = all_pd[n][col_count[m]].sum() / ans_total[n]\n",
    "    cons_summary.append(total)\n",
    "cons_summary_df = pd.DataFrame(cons_summary)\n",
    "cons_summary_df[\"課程滿意度\"] = cons_summary_df[\"非常同意\"] + cons_summary_df[\"同意\"]\n",
    "print(cons_summary_df)"
   ]
  },
  {
   "cell_type": "code",
   "execution_count": 11,
   "metadata": {},
   "outputs": [
    {
     "name": "stdout",
     "output_type": "stream",
     "text": [
      "請輸入匯出檔案名稱：test_V3\n"
     ]
    }
   ],
   "source": [
    "# 匯出為excel檔案\n",
    "xlsx_name = input(\"請輸入匯出檔案名稱：\")\n",
    "output = xlsx_name + \".xlsx\"\n",
    "writer = pd.ExcelWriter(output)\n",
    "all_summary_df.to_excel(writer, \"sheet1\")\n",
    "cons_summary_df.to_excel(writer, \"sheet2\")\n",
    "writer.save()"
   ]
  }
 ],
 "metadata": {
  "kernelspec": {
   "display_name": "Python 3",
   "language": "python",
   "name": "python3"
  },
  "language_info": {
   "codemirror_mode": {
    "name": "ipython",
    "version": 3
   },
   "file_extension": ".py",
   "mimetype": "text/x-python",
   "name": "python",
   "nbconvert_exporter": "python",
   "pygments_lexer": "ipython3",
   "version": "3.8.5"
  }
 },
 "nbformat": 4,
 "nbformat_minor": 4
}
